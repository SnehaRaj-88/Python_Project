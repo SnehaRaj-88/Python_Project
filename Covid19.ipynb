{
 "cells": [
  {
   "cell_type": "code",
   "execution_count": null,
   "id": "4e1db5f0",
   "metadata": {},
   "outputs": [],
   "source": [
    "# installations\n",
    "!pip install pandas\n",
    "!pip install numpy\n",
    "!pip install matplotlib\n",
    "!pip install seaborn\n",
    "!pip install scikit-learn\n",
    "\n",
    "import pandas as pd\n",
    "import numpy as np\n",
    "import matplotlib.pyplot as plt\n",
    "import seaborn as sns\n",
    "\n"
   ]
  },
  {
   "cell_type": "code",
   "execution_count": null,
   "id": "03aa734e",
   "metadata": {},
   "outputs": [],
   "source": [
    "# read the data file into df\n",
    "df = pd.read_csv(\"Data files/mmsa-icu-beds.csv\")\n",
    "print(df.head(10))\n",
    "print(df.columns)"
   ]
  },
  {
   "cell_type": "markdown",
   "id": "7b21032a",
   "metadata": {},
   "source": [
    "1. Which 10 regions have the highest percentage of at-risk population?"
   ]
  },
  {
   "cell_type": "code",
   "execution_count": null,
   "id": "8ec624b8",
   "metadata": {},
   "outputs": [],
   "source": [
    "df_sorted = df.copy()\n",
    "Regions_at_risk=df_sorted.sort_values(by='total_percent_at_risk',ascending=False).head(10)\n",
    "print(Regions_at_risk)"
   ]
  },
  {
   "cell_type": "code",
   "execution_count": null,
   "id": "ec921626",
   "metadata": {},
   "outputs": [],
   "source": [
    "Regions_at_risk=df_sorted.sort_values(by='total_percent_at_risk',ascending=False)\n",
    "top10=Regions_at_risk.iloc[:10,:]\n",
    "print(top10)\n"
   ]
  },
  {
   "cell_type": "code",
   "execution_count": null,
   "id": "0918e5a6",
   "metadata": {},
   "outputs": [],
   "source": [
    "Regions_at_risk=df_sorted.sort_values(by='total_percent_at_risk',ascending=False).reset_index(drop=True)\n",
    "top10=Regions_at_risk.loc[:9,:]\n",
    "print(top10)"
   ]
  },
  {
   "cell_type": "markdown",
   "id": "6b4f3ab3",
   "metadata": {},
   "source": [
    "2. Which 10 areas have the fewest ICU beds per 1,000 high-risk people?"
   ]
  },
  {
   "cell_type": "code",
   "execution_count": null,
   "id": "21b9058b",
   "metadata": {},
   "outputs": [],
   "source": [
    "df_sorted = df.copy()\n",
    "df_sorted['icu_beds_pre_1000']=(df_sorted['icu_beds'] / df_sorted['total_at_risk'])*1000\n",
    "sorted_value=df_sorted.sort_values(by='icu_beds_pre_1000',ascending=True).head(10)\n",
    "print(sorted_value)"
   ]
  },
  {
   "cell_type": "code",
   "execution_count": null,
   "id": "31f5f0ee",
   "metadata": {},
   "outputs": [],
   "source": [
    "sorted_value=df_sorted.sort_values(by='icu_beds_pre_1000',ascending=True).reset_index(drop=True)\n",
    "top10=sorted_value.loc[:9,:]\n",
    "print(top10)"
   ]
  },
  {
   "cell_type": "code",
   "execution_count": null,
   "id": "17f443b2",
   "metadata": {},
   "outputs": [],
   "source": [
    "sorted_value=df_sorted.sort_values(by='icu_beds_pre_1000',ascending=True)\n",
    "top10=sorted_value.iloc[:10,:]\n",
    "print(top10)"
   ]
  },
  {
   "cell_type": "markdown",
   "id": "9709f949",
   "metadata": {},
   "source": [
    "3. Which 10 hospitals are facing the greatest burden in terms of high-risk patients per hospital?"
   ]
  },
  {
   "cell_type": "code",
   "execution_count": null,
   "id": "64ded861",
   "metadata": {},
   "outputs": [],
   "source": [
    "df_sorted = df.copy()\n",
    "top_10_burdened_hospitals = df_sorted.sort_values(by='high_risk_per_hospital', ascending=False).head(10)\n",
    "print(top_10_burdened_hospitals)"
   ]
  },
  {
   "cell_type": "code",
   "execution_count": null,
   "id": "186d78d1",
   "metadata": {},
   "outputs": [],
   "source": [
    "burdened_hospitals = df_sorted.sort_values(by='high_risk_per_hospital', ascending=False)\n",
    "top_10=burdened_hospitals.iloc[:10,:]\n",
    "print(top_10)"
   ]
  },
  {
   "cell_type": "code",
   "execution_count": null,
   "id": "3b8253aa",
   "metadata": {},
   "outputs": [],
   "source": [
    "burdened_hospitals = df_sorted.sort_values(by='high_risk_per_hospital', ascending=False).reset_index(drop=True)\n",
    "top_10=burdened_hospitals.loc[:9,:]\n",
    "print(top_10)"
   ]
  },
  {
   "cell_type": "markdown",
   "id": "45b82043",
   "metadata": {},
   "source": [
    "4.Filter areas with >60% at-risk population and <30 ICU beds."
   ]
  },
  {
   "cell_type": "code",
   "execution_count": null,
   "id": "4677fce5",
   "metadata": {},
   "outputs": [],
   "source": [
    "df_sorted = df.copy()\n",
    "data = df_sorted[(df_sorted['total_percent_at_risk'] > '60%' ) & (df_sorted['icu_beds']<30)]\n",
    "print(data)"
   ]
  },
  {
   "cell_type": "markdown",
   "id": "739fe6fb",
   "metadata": {},
   "source": [
    "5. What is the average at-risk percentage by state?"
   ]
  },
  {
   "cell_type": "code",
   "execution_count": null,
   "id": "458b36bc",
   "metadata": {},
   "outputs": [],
   "source": [
    "df_sorted = df.copy()\n",
    "#df_sorted['total_percent_at_risk'] = df_sorted['total_percent_at_risk'].str.replace('%', '', regex=False)\n",
    "#df_sorted['total_percent_at_risk'] = pd.to_numeric(df_sorted['total_percent_at_risk'], errors='coerce')\n",
    "df_sorted['state'] = df_sorted['MMSA'].str.split(',').str[-1].str.strip()\n",
    "avg_risk_by_state = df_sorted.groupby('state')['total_percent_at_risk'].mean().reset_index()\n",
    "print(avg_risk_by_state)"
   ]
  },
  {
   "cell_type": "markdown",
   "id": "eca31815",
   "metadata": {},
   "source": [
    "6. Is there a correlation between ICU beds and the % at-risk?"
   ]
  },
  {
   "cell_type": "code",
   "execution_count": null,
   "id": "463e7059",
   "metadata": {},
   "outputs": [],
   "source": [
    "df_sorted = df.copy()\n",
    "df_clean = df_sorted.dropna(subset=['icu_beds', 'total_percent_at_risk'])\n",
    "correlation = df_clean['icu_beds'].corr(df_clean['total_percent_at_risk'])\n",
    "print(f\"Correlation between ICU beds and % at-risk: {correlation:.4f}\")"
   ]
  },
  {
   "cell_type": "markdown",
   "id": "3bcf7b41",
   "metadata": {},
   "source": [
    "7. Visualize total percent at-risk vs. high-risk per ICU bed."
   ]
  },
  {
   "cell_type": "code",
   "execution_count": null,
   "id": "78bbb4a6",
   "metadata": {},
   "outputs": [],
   "source": [
    "df_sorted = df.copy()\n",
    "# Clean and convert data\n",
    "df_sorted['total_percent_at_risk'] = df_sorted['total_percent_at_risk'].astype(str).str.replace('%', '', regex=False)\n",
    "df_sorted['total_percent_at_risk'] = pd.to_numeric(df_sorted['total_percent_at_risk'], errors='coerce')\n",
    "df_sorted['high_risk_per_ICU_bed'] = pd.to_numeric(df_sorted['high_risk_per_ICU_bed'], errors='coerce')\n",
    "\n",
    "# Drop missing values\n",
    "df_clean = df_sorted.dropna(subset=['total_percent_at_risk', 'high_risk_per_ICU_bed'])\n",
    "\n",
    "# Create the scatter plot\n",
    "plt.figure(figsize=(10, 6))\n",
    "sns.scatterplot(\n",
    "    data=df_clean,\n",
    "    x='total_percent_at_risk',\n",
    "    y='high_risk_per_ICU_bed',\n",
    "    color='blue',\n",
    "    edgecolor='white'\n",
    ")\n",
    "\n",
    "plt.title('Total % At-Risk vs. High-Risk Patients per ICU Bed')\n",
    "plt.xlabel('Total Percent At-Risk')\n",
    "plt.ylabel('High-Risk Patients per ICU Bed')\n",
    "plt.show()"
   ]
  },
  {
   "cell_type": "markdown",
   "id": "e8cdbd9e",
   "metadata": {},
   "source": [
    "8. Estimate ICU shortfall if we need 1 ICU bed per 500 high-risk individuals.\n"
   ]
  },
  {
   "cell_type": "code",
   "execution_count": null,
   "id": "34ff76d3",
   "metadata": {},
   "outputs": [],
   "source": [
    "df_sorted = df.copy()\n",
    "# Calculate required ICU beds\n",
    "df_sorted['required_icu_beds'] = df_sorted['total_at_risk'] / 500\n",
    "\n",
    "# Estimate shortfall\n",
    "df_sorted['icu_shortfall'] = df_sorted['required_icu_beds'] - df_sorted['icu_beds']\n",
    "\n",
    "# Optional: filter areas with an actual shortfall\n",
    "icu_shortage_df = df_sorted[df_sorted['icu_shortfall'] > 0]\n",
    "\n",
    "# Display or sort the top shortfalls\n",
    "icu_shortage_df = icu_shortage_df.sort_values(by='icu_shortfall', ascending=False)\n",
    "\n",
    "# Show key columns\n",
    "print(icu_shortage_df[['MMSA', 'total_at_risk', 'icu_beds', 'required_icu_beds', 'icu_shortfall']].head(10))"
   ]
  },
  {
   "cell_type": "markdown",
   "id": "8b3c97fb",
   "metadata": {},
   "source": [
    "9. Rank regions by high-risk individuals per hospital."
   ]
  },
  {
   "cell_type": "code",
   "execution_count": null,
   "id": "b6cc3bd8",
   "metadata": {},
   "outputs": [],
   "source": [
    "df_sorted = df.copy()\n",
    "# Sort the DataFrame in descending order\n",
    "ranked_df = df_sorted.sort_values(by='high_risk_per_hospital', ascending=False)\n",
    "\n",
    "ranked_df['rank'] = ranked_df['high_risk_per_hospital'].rank(method='min', ascending=False)\n",
    "\n",
    "# Reset index for neatness\n",
    "ranked_df = ranked_df.reset_index(drop=True)\n",
    "\n",
    "# View top 10 regions\n",
    "print(ranked_df[['MMSA', 'high_risk_per_hospital', 'rank']].head(10))\n",
    "\n"
   ]
  },
  {
   "cell_type": "markdown",
   "id": "029a8376",
   "metadata": {},
   "source": [
    "10. Create a composite risk score to rank all regions."
   ]
  },
  {
   "cell_type": "code",
   "execution_count": null,
   "id": "e9d146df",
   "metadata": {},
   "outputs": [],
   "source": [
    "df_sorted = df.copy()\n",
    "\n",
    "from sklearn.preprocessing import MinMaxScaler\n",
    "\n",
    "cols_to_normalize = [\n",
    "    'total_percent_at_risk',\n",
    "    'high_risk_per_icu_bed',\n",
    "    'high_risk_per_hospital',\n",
    "    'icu_beds',\n",
    "    'hospitals'\n",
    "]\n",
    "\n",
    "scaler = MinMaxScaler()\n",
    "df_normalized = df.copy()\n",
    "df_normalized[cols_to_normalize] = scaler.fit_transform(df[cols_to_normalize])\n",
    "\n",
    "\n",
    "df_normalized['composite_risk_score'] = (\n",
    "    df_normalized['total_percent_at_risk'] +\n",
    "    df_normalized['high_risk_per_icu_bed'] +\n",
    "    df_normalized['high_risk_per_hospital'] -\n",
    "    df_normalized['icu_beds'] -\n",
    "    df_normalized['hospitals']\n",
    ")\n",
    "\n",
    "df_normalized['risk_rank'] = df_normalized['composite_risk_score'].rank(ascending=False)\n"
   ]
  },
  {
   "cell_type": "markdown",
   "id": "6e179584",
   "metadata": {},
   "source": [
    "11. Top 10 Regions with Most ICU Beds per Capita"
   ]
  },
  {
   "cell_type": "code",
   "execution_count": null,
   "id": "e4e11cee",
   "metadata": {},
   "outputs": [],
   "source": [
    "df_sorted = df.copy()\n",
    "df_sorted['icu_beds_per_100k_at_risk'] = (df_sorted['icu_beds'] / df_sorted['total_at_risk']) \n",
    "\n",
    "top_icu_per_capita = df_sorted.sort_values(by='icu_beds_per_100k_at_risk', ascending=False).head(10)\n",
    "\n",
    "print(top_icu_per_capita[['MMSA', 'icu_beds', 'total_at_risk', 'icu_beds_per_100k_at_risk']])"
   ]
  },
  {
   "cell_type": "markdown",
   "id": "701b34e2",
   "metadata": {},
   "source": [
    "12. Regions With No ICU Beds,\n"
   ]
  },
  {
   "cell_type": "code",
   "execution_count": null,
   "id": "d5ad2c93",
   "metadata": {},
   "outputs": [],
   "source": [
    "df_sorted = df.copy()\n",
    "no_icu_regions = df_sorted[df_sorted['icu_beds'] == 0]\n",
    "print(no_icu_regions[['MMSA', 'total_at_risk', 'hospitals']])\n"
   ]
  },
  {
   "cell_type": "markdown",
   "id": "50a05f4a",
   "metadata": {},
   "source": [
    "    13. Regions With No Hospitals\n"
   ]
  },
  {
   "cell_type": "code",
   "execution_count": null,
   "id": "e1500a39",
   "metadata": {},
   "outputs": [],
   "source": [
    "df_sorted = df.copy()\n",
    "no_hospital_regions = df_sorted[df_sorted['hospitals'] == 0]\n",
    "print(no_hospital_regions[['MMSA', 'total_at_risk', 'icu_beds']])\n"
   ]
  },
  {
   "cell_type": "markdown",
   "id": "8940daaa",
   "metadata": {},
   "source": [
    "    14. Compare ICU Pressure Between Two Areas\n"
   ]
  },
  {
   "cell_type": "code",
   "execution_count": null,
   "id": "37efbaae",
   "metadata": {},
   "outputs": [],
   "source": []
  },
  {
   "cell_type": "markdown",
   "id": "c8c8c82f",
   "metadata": {},
   "source": [
    "15. Percent of High-Risk Individuals vs Hospital Count (Correlation)\n"
   ]
  },
  {
   "cell_type": "code",
   "execution_count": null,
   "id": "cfe61f51",
   "metadata": {},
   "outputs": [],
   "source": [
    "df_sorted = df.copy()\n",
    "\n",
    "df_sorted['total_percent_at_risk'] = df_sorted['total_percent_at_risk'].str.replace('%', '', regex=False)\n",
    "df_sorted['total_percent_at_risk'] = pd.to_numeric(df_sorted['total_percent_at_risk'], errors='coerce')\n",
    "df_clean = df_sorted[['total_percent_at_risk', 'hospitals']].dropna()\n",
    "\n",
    "# Compute Pearson correlation\n",
    "correlation = df_clean['total_percent_at_risk'].corr(df_clean['hospitals'])\n",
    "\n",
    "print(f\"Correlation between percent at risk and hospital count: {correlation:.2f}\")"
   ]
  },
  {
   "cell_type": "markdown",
   "id": "b2654e5b",
   "metadata": {},
   "source": [
    "16. Bucket Regions by Risk Level\n"
   ]
  },
  {
   "cell_type": "code",
   "execution_count": null,
   "id": "a87391d8",
   "metadata": {},
   "outputs": [],
   "source": [
    "df_sorted = df.copy()\n",
    "\n",
    "df_sorted['total_percent_at_risk'] = df_sorted['total_percent_at_risk'].str.replace('%', '', regex=False)\n",
    "df_sorted['total_percent_at_risk'] = pd.to_numeric(df_sorted['total_percent_at_risk'], errors='coerce')\n",
    "\n",
    "# Function to bucket by risk level\n",
    "def bucket_risk_level(percent):\n",
    "    if percent <= 40:\n",
    "        return 'Low'\n",
    "    elif percent <= 55:\n",
    "        return 'Moderate'\n",
    "    elif percent <= 65:\n",
    "        return 'High'\n",
    "    else:\n",
    "        return 'Very High'\n",
    "\n",
    "# Apply bucket\n",
    "df_sorted['risk_bucket'] = df_sorted['total_percent_at_risk'].apply(bucket_risk_level)\n",
    "\n",
    "# Optional: view bucketed data\n",
    "print(df_sorted[['MMSA', 'total_percent_at_risk', 'risk_bucket']])"
   ]
  },
  {
   "cell_type": "markdown",
   "id": "a0e9518a",
   "metadata": {},
   "source": [
    "17. Top Regions Needing Emergency Resource Allocation\n"
   ]
  },
  {
   "cell_type": "code",
   "execution_count": 95,
   "id": "741f0aa9",
   "metadata": {},
   "outputs": [
    {
     "name": "stdout",
     "output_type": "stream",
     "text": [
      "                   MMSA total_percent_at_risk  icu_beds  hospitals  \\\n",
      "135       Rochester, MN                54.72%     218.0        4.0   \n",
      "112      Provo-Orem, UT                38.92%     122.0        6.0   \n",
      "106  Grand Forks, ND-MN                54.83%      31.0        4.0   \n",
      "114         Lincoln, NE                53.81%     108.0        5.0   \n",
      "132       Duluth, MN-WI                60.34%     185.0       11.0   \n",
      "\n",
      "     composite_need_score  \n",
      "135                 365.0  \n",
      "112                 359.0  \n",
      "106                 351.0  \n",
      "114                 339.0  \n",
      "132                 333.0  \n"
     ]
    }
   ],
   "source": [
    "df_sorted = df.copy()\n",
    "\n",
    "df_sorted['icu_beds'] = df_sorted['icu_beds'].fillna(0)\n",
    "df_sorted['hospitals'] = df_sorted['hospitals'].fillna(0)\n",
    "\n",
    "# Assign scores (higher = more urgent need)\n",
    "df_sorted['risk_score'] = df_sorted['total_percent_at_risk']\n",
    "df_sorted['icu_burden_score'] = df_sorted['high_risk_per_ICU_bed'].replace(np.nan, 1e6)  # NA = very high burden\n",
    "df_sorted['hospital_burden_score'] = df_sorted['high_risk_per_hospital'].replace(np.nan, 1e6)\n",
    "\n",
    "df_sorted['composite_need_score'] = (\n",
    "    df_sorted['risk_score'].rank(ascending=False) +\n",
    "    df_sorted['icu_burden_score'].rank(ascending=False) +\n",
    "    df_sorted['hospital_burden_score'].rank(ascending=False)\n",
    ")\n",
    "\n",
    "# Sort by highest need\n",
    "top_regions = df_sorted.sort_values('composite_need_score', ascending=False).head(5)\n",
    "print(top_regions[['MMSA', 'total_percent_at_risk', 'icu_beds', 'hospitals', 'composite_need_score']])\n"
   ]
  },
  {
   "cell_type": "markdown",
   "id": "1623ccc4",
   "metadata": {},
   "source": [
    "18. Calculate ICU Utilization Ratio (Projected) \n"
   ]
  },
  {
   "cell_type": "markdown",
   "id": "ccde3172",
   "metadata": {},
   "source": [
    "19. Histogram of At-Risk Percentages \n"
   ]
  },
  {
   "cell_type": "markdown",
   "id": "904c2fc8",
   "metadata": {},
   "source": [
    "20. State-Wise ICU Capacity Ranking"
   ]
  }
 ],
 "metadata": {
  "kernelspec": {
   "display_name": "venv",
   "language": "python",
   "name": "python3"
  },
  "language_info": {
   "codemirror_mode": {
    "name": "ipython",
    "version": 3
   },
   "file_extension": ".py",
   "mimetype": "text/x-python",
   "name": "python",
   "nbconvert_exporter": "python",
   "pygments_lexer": "ipython3",
   "version": "3.13.4"
  }
 },
 "nbformat": 4,
 "nbformat_minor": 5
}
